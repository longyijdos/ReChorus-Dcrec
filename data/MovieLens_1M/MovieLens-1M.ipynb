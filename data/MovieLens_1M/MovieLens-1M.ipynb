{
 "cells": [
  {
   "cell_type": "code",
   "execution_count": 28,
   "id": "51e2ea0e",
   "metadata": {
    "ExecuteTime": {
     "end_time": "2024-12-14T06:27:23.342967Z",
     "start_time": "2024-12-14T06:27:23.325895Z"
    }
   },
   "outputs": [],
   "source": [
    "import numpy as np\n",
    "import pandas as pd\n",
    "import os\n",
    "import sys\n",
    "import zipfile\n",
    "import subprocess\n",
    "\n",
    "from matplotlib import pyplot as plt\n",
    "import seaborn as sns\n",
    "from datetime import datetime, timedelta\n",
    "from scipy import stats\n",
    "from tqdm.notebook import tqdm\n",
    "from copy import deepcopy\n",
    "\n",
    "import json"
   ]
  },
  {
   "cell_type": "code",
   "execution_count": 29,
   "id": "c83f9a56",
   "metadata": {
    "ExecuteTime": {
     "end_time": "2024-12-14T06:27:23.359113Z",
     "start_time": "2024-12-14T06:27:23.343968Z"
    }
   },
   "outputs": [],
   "source": [
    "DATASET = 'ml-1m' \n",
    "RAW_PATH = os.path.join('./', DATASET)\n",
    "\n",
    "RANDOM_SEED = 0\n",
    "NEG_ITEMS = 99"
   ]
  },
  {
   "cell_type": "markdown",
   "id": "734c7699",
   "metadata": {},
   "source": [
    "# Load data\n",
    "\n",
    "1. Load interaction data and item metadata\n",
    "2. Filter out items with less than 5 interactions\n",
    "3. Calculate basic statistics"
   ]
  },
  {
   "cell_type": "code",
   "execution_count": 30,
   "id": "d13489aa",
   "metadata": {
    "ExecuteTime": {
     "end_time": "2024-12-14T06:27:23.390648Z",
     "start_time": "2024-12-14T06:27:23.379624Z"
    }
   },
   "outputs": [],
   "source": [
    "# download data if not exists\n",
    "\n",
    "if not os.path.exists(RAW_PATH):\n",
    "    subprocess.call('mkdir ' + RAW_PATH, shell=True)\n",
    "if not os.path.exists(os.path.join(RAW_PATH, DATASET + '.zip')):\n",
    "    print('Downloading data into ' + RAW_PATH)\n",
    "    subprocess.call(\n",
    "        'cd {} && curl -O http://files.grouplens.org/datasets/movielens/{}.zip'\n",
    "        .format(RAW_PATH, DATASET), shell=True)\n",
    "    print('Unzip files...')\n",
    "    f = zipfile.ZipFile(os.path.join(RAW_PATH, DATASET + '.zip'),'r') \n",
    "    for file in f.namelist():\n",
    "        print(\"Extract %s\"%(file))\n",
    "        f.extract(file,RAW_PATH)\n",
    "    f.close()"
   ]
  },
  {
   "cell_type": "code",
   "execution_count": 38,
   "id": "296f3101",
   "metadata": {
    "ExecuteTime": {
     "end_time": "2024-12-14T06:29:34.939936Z",
     "start_time": "2024-12-14T06:29:32.919097Z"
    }
   },
   "outputs": [
    {
     "data": {
      "text/plain": "0it [00:00, ?it/s]",
      "application/vnd.jupyter.widget-view+json": {
       "version_major": 2,
       "version_minor": 0,
       "model_id": "14994cf73b7048fa9785d35d220095bb"
      }
     },
     "metadata": {},
     "output_type": "display_data"
    }
   ],
   "source": [
    "# read interaction data\n",
    "interactions = []\n",
    "user_freq, item_freq = dict(), dict()\n",
    "file = os.path.join(RAW_PATH,\"ratings.dat\")\n",
    "with open(file) as F:\n",
    "    header = 0\n",
    "    for line in tqdm(F):\n",
    "        if header == 1:\n",
    "            header = 0\n",
    "            continue\n",
    "        line = line.strip().split(\"::\")\n",
    "        uid, iid, rating, time = line[0], line[1], float(line[2]), float(line[3])\n",
    "        if rating >= 4:\n",
    "            label = 1\n",
    "        else:\n",
    "            label = 0\n",
    "        interactions.append([uid,time,iid,label])\n",
    "        if int(label)==1:\n",
    "            user_freq[uid] = user_freq.get(uid,0)+1\n",
    "            item_freq[iid] = item_freq.get(iid,0)+1"
   ]
  },
  {
   "cell_type": "code",
   "execution_count": 39,
   "id": "21a9a930",
   "metadata": {
    "ExecuteTime": {
     "end_time": "2024-12-14T06:29:38.284692Z",
     "start_time": "2024-12-14T06:29:37.414085Z"
    }
   },
   "outputs": [
    {
     "name": "stdout",
     "output_type": "stream",
     "text": [
      "User: 6034/6038, Item: 3125/3533\n"
     ]
    },
    {
     "data": {
      "text/plain": "  0%|          | 0/1000209 [00:00<?, ?it/s]",
      "application/vnd.jupyter.widget-view+json": {
       "version_major": 2,
       "version_minor": 0,
       "model_id": "27decf1a76ee4d9cab61d4bf63df84cb"
      }
     },
     "metadata": {},
     "output_type": "display_data"
    }
   ],
   "source": [
    "# 5-core filtering\n",
    "select_uid, select_iid = [],[]\n",
    "while len(select_uid)<len(user_freq) or len(select_iid)<len(item_freq):\n",
    "    select_uid, select_iid = [],[]\n",
    "    for u in user_freq:\n",
    "        if user_freq[u]>=5:\n",
    "            select_uid.append(u)\n",
    "    for i in item_freq:\n",
    "        if item_freq[i]>=5:\n",
    "            select_iid.append(i)\n",
    "    print(\"User: %d/%d, Item: %d/%d\"%(len(select_uid),len(user_freq),len(select_iid),len(item_freq)))\n",
    "\n",
    "    select_uid = set(select_uid)\n",
    "    select_iid = set(select_iid)\n",
    "    user_freq, item_freq = dict(), dict()\n",
    "    interactions_5core = []\n",
    "    for line in tqdm(interactions):\n",
    "        uid, iid, label = line[0], line[2], line[-1]\n",
    "        if uid in select_uid and iid in select_iid:\n",
    "            interactions_5core.append(line)\n",
    "            if int(label)==1:\n",
    "                user_freq[uid] = user_freq.get(uid,0)+1\n",
    "                item_freq[iid] = item_freq.get(iid,0)+1\n",
    "    interactions = interactions_5core"
   ]
  },
  {
   "cell_type": "code",
   "execution_count": 40,
   "id": "e8585850",
   "metadata": {
    "scrolled": true,
    "ExecuteTime": {
     "end_time": "2024-12-14T06:29:39.083827Z",
     "start_time": "2024-12-14T06:29:39.072202Z"
    }
   },
   "outputs": [
    {
     "name": "stdout",
     "output_type": "stream",
     "text": [
      "Selected Interactions: 994338, Users: 6034, Items: 3125\n"
     ]
    }
   ],
   "source": [
    "print(\"Selected Interactions: %d, Users: %d, Items: %d\"%(len(interactions),len(select_uid),len(select_iid)))"
   ]
  },
  {
   "cell_type": "code",
   "execution_count": 41,
   "id": "fa27137e",
   "metadata": {
    "scrolled": false,
    "ExecuteTime": {
     "end_time": "2024-12-14T06:29:40.342709Z",
     "start_time": "2024-12-14T06:29:39.662867Z"
    }
   },
   "outputs": [
    {
     "data": {
      "text/plain": "  0%|          | 0/994338 [00:00<?, ?it/s]",
      "application/vnd.jupyter.widget-view+json": {
       "version_major": 2,
       "version_minor": 0,
       "model_id": "90dc54d09626435e8ee8f8521fcc92ff"
      }
     },
     "metadata": {},
     "output_type": "display_data"
    }
   ],
   "source": [
    "# Get timestamp\n",
    "ts = []\n",
    "for i in tqdm(range(len(interactions))):\n",
    "    ts.append(datetime.fromtimestamp(interactions[i][1]))"
   ]
  },
  {
   "cell_type": "code",
   "execution_count": 42,
   "id": "410dfc5b",
   "metadata": {
    "scrolled": true,
    "ExecuteTime": {
     "end_time": "2024-12-14T06:29:48.431495Z",
     "start_time": "2024-12-14T06:29:40.749225Z"
    }
   },
   "outputs": [],
   "source": [
    "# Construct and Save 5 core results with situation context\n",
    "interaction_df = pd.DataFrame(interactions,columns = [\"user_id\",\"time\",\"news_id\",\"label\"])\n",
    "interaction_df['timestamp'] = ts\n",
    "interaction_df['hour'] = interaction_df['timestamp'].apply(lambda x: x.hour)\n",
    "interaction_df['weekday'] = interaction_df['timestamp'].apply(lambda x: x.weekday())\n",
    "interaction_df['date'] = interaction_df['timestamp'].apply(lambda x: x.date())\n",
    "\n",
    "def get_time_range(hour): # according to the Britannica dictionary\n",
    "    # https://www.britannica.com/dictionary/eb/qa/parts-of-the-day-early-morning-late-morning-etc\n",
    "    if hour>=5 and hour<=8:\n",
    "        return 0\n",
    "    if hour>8 and hour<11:\n",
    "        return 1\n",
    "    if hour>=11 and hour<=12:\n",
    "        return 2\n",
    "    if hour>12 and hour<=15:\n",
    "        return 3\n",
    "    if hour>15 and hour<=17:\n",
    "        return 4\n",
    "    if hour>=18 and hour<=19:\n",
    "        return 5\n",
    "    if hour>19 and hour<=21:\n",
    "        return 6\n",
    "    if hour>21:\n",
    "        return 7\n",
    "    return 8 # 0-4 am\n",
    "\n",
    "interaction_df['period'] = interaction_df.hour.apply(lambda x: get_time_range(x))\n",
    "min_date = interaction_df.date.min()\n",
    "interaction_df['day'] = (interaction_df.date - min_date).apply(lambda x: x.days)\n",
    "\n",
    "interaction_df.to_csv(\"interaction_5core.csv\",index=False)"
   ]
  },
  {
   "cell_type": "markdown",
   "id": "826906b0",
   "metadata": {},
   "source": [
    "# Prepare data for CTR & Reranking task\n",
    "\n",
    "1. Rename and organize all interaction features\n",
    "2. Split dataset into training, validation, and test; Save interaction files\n",
    "3. Assign impression ID (not necessary for CTR prediction)\n",
    "4. Organize item metadata"
   ]
  },
  {
   "cell_type": "code",
   "execution_count": 43,
   "id": "52e8dd3e",
   "metadata": {
    "ExecuteTime": {
     "end_time": "2024-12-14T06:29:50.615888Z",
     "start_time": "2024-12-14T06:29:50.610052Z"
    }
   },
   "outputs": [],
   "source": [
    "CTR_PATH='./ML_1MCTR/'\n",
    "os.makedirs(CTR_PATH,exist_ok=True)"
   ]
  },
  {
   "cell_type": "code",
   "execution_count": 44,
   "id": "b2a2a824",
   "metadata": {
    "ExecuteTime": {
     "end_time": "2024-12-14T06:29:52.881297Z",
     "start_time": "2024-12-14T06:29:51.506337Z"
    }
   },
   "outputs": [],
   "source": [
    "# copy interaction file, rename and re-id all features\n",
    "interaction_ctr = interaction_df.copy()\n",
    "interaction_ctr.rename(columns={'hour':'c_hour_c','weekday':'c_weekday_c','period':'c_period_c','day':'c_day_f',\n",
    "                              'user_id':'original_user_id'},\n",
    "                     inplace=True)\n",
    "user2newid_ctr = dict(zip(sorted(interaction_ctr.original_user_id.unique()), \n",
    "                      range(1,interaction_ctr.original_user_id.nunique()+1)))\n",
    "interaction_ctr['user_id'] = interaction_ctr.original_user_id.apply(lambda x: user2newid_ctr[x])\n",
    "\n",
    "item2newid_ctr = dict(zip(sorted(interaction_ctr.news_id.unique()), \n",
    "                      range(1,interaction_ctr.news_id.nunique()+1)))\n",
    "interaction_ctr['item_id'] = interaction_ctr['news_id'].apply(lambda x: item2newid_ctr[x])\n",
    "interaction_ctr.sort_values(by=['user_id','time'],inplace=True)\n",
    "interaction_ctr = interaction_ctr.reset_index(drop=True)\n",
    "\n",
    "nu2nid = dict()\n",
    "ni2nid = dict()\n",
    "for i in user2newid_ctr.keys():\n",
    "    oi = int(i)\n",
    "    nu2nid[oi] = user2newid_ctr[i]\n",
    "\n",
    "for i in item2newid_ctr.keys():\n",
    "    oi = int(i)\n",
    "    ni2nid[oi] = item2newid_ctr[i]\n",
    "\n",
    "json.dump(nu2nid,open(os.path.join(CTR_PATH,\"user2newid.json\"),'w'))\n",
    "json.dump(ni2nid,open(os.path.join(CTR_PATH,\"item2newid.json\"),'w'))"
   ]
  },
  {
   "cell_type": "code",
   "execution_count": 45,
   "id": "71be081b",
   "metadata": {
    "scrolled": false,
    "ExecuteTime": {
     "end_time": "2024-12-14T06:29:53.518031Z",
     "start_time": "2024-12-14T06:29:53.468899Z"
    }
   },
   "outputs": [
    {
     "name": "stdout",
     "output_type": "stream",
     "text": [
      "c_hour_c 24\n",
      "c_weekday_c 7\n",
      "c_period_c 9\n",
      "c_day_f 1037\n",
      "user_id 6034\n",
      "item_id 3125\n"
     ]
    }
   ],
   "source": [
    "# Count statistics\n",
    "for col in interaction_ctr.columns:\n",
    "    if col in ['user_id','item_id'] or col.startswith('c_'):\n",
    "        print(col, interaction_ctr[col].nunique())"
   ]
  },
  {
   "cell_type": "code",
   "execution_count": 46,
   "id": "1a47e717",
   "metadata": {
    "scrolled": true,
    "ExecuteTime": {
     "end_time": "2024-12-14T06:29:56.124231Z",
     "start_time": "2024-12-14T06:29:55.945067Z"
    }
   },
   "outputs": [
    {
     "name": "stdout",
     "output_type": "stream",
     "text": [
      "Train user: 6033, item: 3125\n",
      "Validation user: 239, item:1914\n",
      "Test user: 256, item:1869\n"
     ]
    },
    {
     "data": {
      "text/plain": "(568761, 0.578105497257673, 2651, 0.5107899807321773, 2874, 0.5552550231839258)"
     },
     "execution_count": 46,
     "metadata": {},
     "output_type": "execute_result"
    }
   ],
   "source": [
    "# split training, validation, and test sets.\n",
    "split_time1 = interaction_ctr.c_day_f.max() * 0.8\n",
    "train = interaction_ctr.loc[interaction_ctr.c_day_f<=split_time1].copy()\n",
    "val_test = interaction_ctr.loc[(interaction_ctr.c_day_f>split_time1)].copy()\n",
    "split_time2 = interaction_ctr.c_day_f.max() * 0.9\n",
    "val = val_test.loc[val_test.c_day_f<=split_time2].copy()\n",
    "test = val_test.loc[val_test.c_day_f>split_time2].copy()\n",
    "\n",
    "# Delete user&item in validation&test sets that not exist in training set\n",
    "train_u, train_i = set(train.user_id.unique()), set(train.item_id.unique())\n",
    "val_sel = val.loc[(val.user_id.isin(train_u))&(val.item_id.isin(train_i))].copy()\n",
    "test_sel = test.loc[(test.user_id.isin(train_u))&(test.item_id.isin(train_i))].copy()\n",
    "print(\"Train user: %d, item: %d\"%(len(train_u),len(train_i)))\n",
    "print(\"Validation user: %d, item:%d\"%(val_sel.user_id.nunique(),val_sel.item_id.nunique()))\n",
    "print(\"Test user: %d, item:%d\"%(test_sel.user_id.nunique(),test_sel.item_id.nunique()))\n",
    "train.label.sum(),train.label.mean(),val_sel.label.sum(),val_sel.label.mean(),test_sel.label.sum(),test_sel.label.mean()"
   ]
  },
  {
   "cell_type": "code",
   "execution_count": 47,
   "id": "8e6de2da",
   "metadata": {
    "ExecuteTime": {
     "end_time": "2024-12-14T06:30:00.218456Z",
     "start_time": "2024-12-14T06:30:00.208372Z"
    }
   },
   "outputs": [
    {
     "data": {
      "text/plain": "(5176, 12)"
     },
     "execution_count": 47,
     "metadata": {},
     "output_type": "execute_result"
    }
   ],
   "source": [
    "test_sel.shape"
   ]
  },
  {
   "cell_type": "code",
   "execution_count": 48,
   "id": "e5376bf8",
   "metadata": {
    "scrolled": true,
    "ExecuteTime": {
     "end_time": "2024-12-14T06:30:02.290974Z",
     "start_time": "2024-12-14T06:30:01.198004Z"
    }
   },
   "outputs": [
    {
     "data": {
      "text/plain": "  0%|          | 0/983836 [00:00<?, ?it/s]",
      "application/vnd.jupyter.widget-view+json": {
       "version_major": 2,
       "version_minor": 0,
       "model_id": "6218590f3be64938a6537d9e262199e6"
      }
     },
     "metadata": {},
     "output_type": "display_data"
    },
    {
     "data": {
      "text/plain": "  0%|          | 0/5190 [00:00<?, ?it/s]",
      "application/vnd.jupyter.widget-view+json": {
       "version_major": 2,
       "version_minor": 0,
       "model_id": "c9d765e0270e4020bcc91704fc023643"
      }
     },
     "metadata": {},
     "output_type": "display_data"
    },
    {
     "data": {
      "text/plain": "  0%|          | 0/5176 [00:00<?, ?it/s]",
      "application/vnd.jupyter.widget-view+json": {
       "version_major": 2,
       "version_minor": 0,
       "model_id": "a7788d37dd0c4fe78b21ac467336141d"
      }
     },
     "metadata": {},
     "output_type": "display_data"
    }
   ],
   "source": [
    "# Assign impression ids\n",
    "for interaction_partial in [train,val_sel,test_sel]:\n",
    "    interaction_partial['last_user_id'] = interaction_partial['user_id'].shift(1)\n",
    "    impression_ids = []\n",
    "    impression_len = 0\n",
    "    current_impid = 0\n",
    "    max_imp_len = 20\n",
    "    for uid, last_uid in tqdm(interaction_partial[['user_id','last_user_id']].to_numpy()):\n",
    "        if uid == last_uid:\n",
    "            if impression_len >= max_imp_len:\n",
    "                current_impid += 1\n",
    "                impression_len = 1\n",
    "            else:\n",
    "                impression_len += 1\n",
    "            impression_ids.append(current_impid)\n",
    "        else:\n",
    "            current_impid += 1\n",
    "            impression_len = 1\n",
    "            impression_ids.append(current_impid)\n",
    "    interaction_partial.loc[:,'impression_id'] = impression_ids"
   ]
  },
  {
   "cell_type": "code",
   "execution_count": 49,
   "id": "ff48130b",
   "metadata": {
    "ExecuteTime": {
     "end_time": "2024-12-14T06:30:04.654395Z",
     "start_time": "2024-12-14T06:30:02.903199Z"
    }
   },
   "outputs": [],
   "source": [
    "# Save interaction data\n",
    "select_columns = ['user_id','item_id','time','label','c_hour_c','c_weekday_c','c_period_c','c_day_f','impression_id']\n",
    "train[select_columns].to_csv(os.path.join(CTR_PATH,'train.csv'),sep=\"\\t\",index=False)\n",
    "val_sel[select_columns].to_csv(os.path.join(CTR_PATH,'dev.csv'),sep=\"\\t\",index=False)\n",
    "test_sel[select_columns].to_csv(os.path.join(CTR_PATH,'test.csv'),sep=\"\\t\",index=False)"
   ]
  },
  {
   "cell_type": "code",
   "execution_count": 50,
   "id": "5d4b8675",
   "metadata": {
    "scrolled": true,
    "ExecuteTime": {
     "end_time": "2024-12-14T06:30:05.182275Z",
     "start_time": "2024-12-14T06:30:05.080483Z"
    }
   },
   "outputs": [],
   "source": [
    "# organize & save item metadata\n",
    "item_meta = pd.read_csv(os.path.join(DATASET, \"movies.dat\"),\n",
    "            sep='::',names=['movieId','title','genres'],encoding='latin-1',engine='python') # columns: movieId,title,genres\n",
    "item_select = item_meta.loc[item_meta.movieId.isin(interaction_ctr.news_id.unique())].copy()\n",
    "item_select['item_id'] = item_select.movieId.apply(lambda x: item2newid_ctr[str(x)])\n",
    "genres2id = dict(zip(sorted(item_select.genres.unique()),range(1,item_select.genres.nunique()+1)))\n",
    "item_select['i_genre_c'] = item_select['genres'].apply(lambda x: genres2id[x])\n",
    "title2id = dict(zip(sorted(item_select.title.unique()),range(1,item_select.title.nunique()+1)))\n",
    "item_select['i_title_c'] = item_select['title'].apply(lambda x: title2id[x])\n",
    "\n",
    "item_select[['item_id','i_genre_c','i_title_c']].to_csv(\n",
    "    os.path.join(CTR_PATH,'item_meta.csv'),sep=\"\\t\",index=False)"
   ]
  },
  {
   "cell_type": "markdown",
   "id": "098e3061",
   "metadata": {},
   "source": [
    "# Prepare data for Top-k Recommendation Task\n",
    "1. Rename all interaction features\n",
    "2. Split dataset into training, validation, and test\n",
    "3. Re-assign IDs to user, item, and context; Save interaction files\n",
    "4. Organize item metadata"
   ]
  },
  {
   "cell_type": "code",
   "execution_count": 51,
   "id": "04f99a62",
   "metadata": {
    "ExecuteTime": {
     "end_time": "2024-12-14T06:30:06.484912Z",
     "start_time": "2024-12-14T06:30:06.478885Z"
    }
   },
   "outputs": [],
   "source": [
    "TOPK_PATH='./ML_1MTOPK/'\n",
    "os.makedirs(TOPK_PATH,exist_ok=True)"
   ]
  },
  {
   "cell_type": "code",
   "execution_count": 52,
   "id": "7f8a8ca6",
   "metadata": {
    "ExecuteTime": {
     "end_time": "2024-12-14T06:30:07.263232Z",
     "start_time": "2024-12-14T06:30:07.049600Z"
    }
   },
   "outputs": [],
   "source": [
    "# copy & rename columns\n",
    "interaction_pos = interaction_df.loc[interaction_df.label==1].copy() # retain positive interactions\n",
    "interaction_pos.rename(columns={'hour':'c_hour_c','weekday':'c_weekday_c','period':'c_period_c','day':'c_day_f',\n",
    "                              'user_id':'original_user_id'}, inplace=True)"
   ]
  },
  {
   "cell_type": "code",
   "execution_count": 53,
   "id": "236e598c",
   "metadata": {
    "scrolled": true,
    "ExecuteTime": {
     "end_time": "2024-12-14T06:30:08.417266Z",
     "start_time": "2024-12-14T06:30:08.187098Z"
    }
   },
   "outputs": [
    {
     "name": "stdout",
     "output_type": "stream",
     "text": [
      "Train user: 6032, item: 3125\n",
      "Validation user: 214, item:1198\n",
      "Test user: 226, item:1260\n"
     ]
    },
    {
     "data": {
      "text/plain": "(568761, 1.0, 2562, 1.0, 2874, 1.0)"
     },
     "execution_count": 53,
     "metadata": {},
     "output_type": "execute_result"
    }
   ],
   "source": [
    "# split training, validation, and test sets.\n",
    "split_time1 = int(interaction_pos.c_day_f.max() * 0.8)\n",
    "train = interaction_pos.loc[interaction_pos.c_day_f<=split_time1].copy()\n",
    "val_test = interaction_pos.loc[(interaction_pos.c_day_f>split_time1)].copy()\n",
    "val_test.sort_values(by='time',inplace=True)\n",
    "split_time2 = int(interaction_pos.c_day_f.max() * 0.9)\n",
    "val = val_test.loc[val_test.c_day_f<=split_time2].copy()\n",
    "test = val_test.loc[val_test.c_day_f>split_time2].copy()\n",
    "\n",
    "# Delete user&item in validation&test sets that not exist in training set\n",
    "train_u, train_i = set(train.original_user_id.unique()), set(train.news_id.unique())\n",
    "val_sel = val.loc[(val.original_user_id.isin(train_u))&(val.news_id.isin(train_i))].copy()\n",
    "test_sel = test.loc[(test.original_user_id.isin(train_u))&(test.news_id.isin(train_i))].copy()\n",
    "print(\"Train user: %d, item: %d\"%(len(train_u),len(train_i)))\n",
    "print(\"Validation user: %d, item:%d\"%(val_sel.original_user_id.nunique(),val_sel.news_id.nunique()))\n",
    "print(\"Test user: %d, item:%d\"%(test_sel.original_user_id.nunique(),test_sel.news_id.nunique()))\n",
    "train.label.sum(),train.label.mean(),val_sel.label.sum(),val_sel.label.mean(),test_sel.label.sum(),test_sel.label.mean()"
   ]
  },
  {
   "cell_type": "code",
   "execution_count": 54,
   "id": "c4691f22",
   "metadata": {
    "ExecuteTime": {
     "end_time": "2024-12-14T06:30:10.193199Z",
     "start_time": "2024-12-14T06:30:09.184901Z"
    }
   },
   "outputs": [],
   "source": [
    "# Assign ids for users and items (to generate continous ids)\n",
    "all_df = pd.concat([train,val_sel,test_sel],axis=0)\n",
    "user2newid_topk = dict(zip(sorted(all_df.original_user_id.unique()), \n",
    "                      range(1,all_df.original_user_id.nunique()+1)))\n",
    " \n",
    "for df in [train,val_sel,test_sel]:\n",
    "    df['user_id'] = df.original_user_id.apply(lambda x: user2newid_topk[x])\n",
    "\n",
    "item2newid_topk = dict(zip(sorted(all_df.news_id.unique()), \n",
    "                      range(1,all_df.news_id.nunique()+1)))\n",
    "for df in [train,val_sel,test_sel]:\n",
    "    df['item_id'] = df['news_id'].apply(lambda x: item2newid_topk[x])\n",
    "\n",
    "all_df['user_id'] = all_df.original_user_id.apply(lambda x: user2newid_topk[x])\n",
    "all_df['item_id'] = all_df['news_id'].apply(lambda x: item2newid_topk[x])"
   ]
  },
  {
   "cell_type": "code",
   "execution_count": 55,
   "id": "d0cf22a7",
   "metadata": {
    "scrolled": true,
    "ExecuteTime": {
     "end_time": "2024-12-14T06:30:10.641189Z",
     "start_time": "2024-12-14T06:30:10.618069Z"
    }
   },
   "outputs": [],
   "source": [
    "nu2nid = dict()\n",
    "ni2nid = dict()\n",
    "for i in user2newid_topk.keys():\n",
    "    oi = int(i)\n",
    "    nu2nid[oi] = user2newid_topk[i]\n",
    "\n",
    "for i in item2newid_topk.keys():\n",
    "    oi = int(i)\n",
    "    ni2nid[oi] = item2newid_topk[i]\n",
    "json.dump(nu2nid,open(os.path.join(TOPK_PATH,\"user2newid.json\"),'w'))\n",
    "json.dump(ni2nid,open(os.path.join(TOPK_PATH,\"item2newid.json\"),'w'))"
   ]
  },
  {
   "cell_type": "code",
   "execution_count": 56,
   "id": "d68bf2f4",
   "metadata": {
    "ExecuteTime": {
     "end_time": "2024-12-14T06:30:15.987145Z",
     "start_time": "2024-12-14T06:30:11.221783Z"
    }
   },
   "outputs": [
    {
     "data": {
      "text/plain": "0it [00:00, ?it/s]",
      "application/vnd.jupyter.widget-view+json": {
       "version_major": 2,
       "version_minor": 0,
       "model_id": "76d777943af9416ab635bfc9ed733f18"
      }
     },
     "metadata": {},
     "output_type": "display_data"
    },
    {
     "name": "stderr",
     "output_type": "stream",
     "text": [
      "C:\\Users\\30504\\AppData\\Local\\Temp\\ipykernel_19548\\669755922.py:9: DeprecationWarning: Conversion of an array with ndim > 0 to a scalar is deprecated, and will error in future. Ensure you extract a single element from your array before performing this operation. (Deprecated NumPy 1.25.)\n",
      "  neg_items[i][j] = np.random.choice(all_items, 1)\n"
     ]
    },
    {
     "data": {
      "text/plain": "0it [00:00, ?it/s]",
      "application/vnd.jupyter.widget-view+json": {
       "version_major": 2,
       "version_minor": 0,
       "model_id": "e1fd27169371416abe3e222b429ccb5f"
      }
     },
     "metadata": {},
     "output_type": "display_data"
    },
    {
     "name": "stderr",
     "output_type": "stream",
     "text": [
      "C:\\Users\\30504\\AppData\\Local\\Temp\\ipykernel_19548\\669755922.py:9: DeprecationWarning: Conversion of an array with ndim > 0 to a scalar is deprecated, and will error in future. Ensure you extract a single element from your array before performing this operation. (Deprecated NumPy 1.25.)\n",
      "  neg_items[i][j] = np.random.choice(all_items, 1)\n"
     ]
    }
   ],
   "source": [
    "# generate negative items\n",
    "def generate_negative(data_df,all_items,clicked_item_set,random_seed,neg_item_num=99):\n",
    "    np.random.seed(random_seed)\n",
    "    neg_items = np.random.choice(all_items, (len(data_df),neg_item_num))\n",
    "    for i, uid in tqdm(enumerate(data_df['user_id'].values)):\n",
    "        user_clicked = clicked_item_set[uid]\n",
    "        for j in range(len(neg_items[i])):\n",
    "            while neg_items[i][j] in user_clicked|set(neg_items[i][:j]):\n",
    "                neg_items[i][j] = np.random.choice(all_items, 1)\n",
    "    return neg_items.tolist()\n",
    "\n",
    "clicked_item_set = dict()\n",
    "for user_id, seq_df in all_df.groupby('user_id'):\n",
    "    clicked_item_set[user_id] = set(seq_df['item_id'].values.tolist())\n",
    "all_items = all_df.item_id.unique()\n",
    "val_sel['neg_items'] = generate_negative(val_sel,all_items,clicked_item_set,random_seed=1)\n",
    "test_sel['neg_items'] = generate_negative(test_sel,all_items,clicked_item_set,random_seed=2)"
   ]
  },
  {
   "cell_type": "code",
   "execution_count": 57,
   "id": "28016f4d",
   "metadata": {
    "ExecuteTime": {
     "end_time": "2024-12-14T06:30:19.382232Z",
     "start_time": "2024-12-14T06:30:18.301913Z"
    }
   },
   "outputs": [],
   "source": [
    "select_columns = ['user_id','item_id','time','c_hour_c','c_weekday_c','c_period_c','c_day_f']\n",
    "train[select_columns].to_csv(os.path.join(TOPK_PATH,'train.csv'),sep=\"\\t\",index=False)\n",
    "val_sel[select_columns+['neg_items']].to_csv(os.path.join(TOPK_PATH,'dev.csv'),sep=\"\\t\",index=False)\n",
    "test_sel[select_columns+['neg_items']].to_csv(os.path.join(TOPK_PATH,'test.csv'),sep=\"\\t\",index=False)"
   ]
  },
  {
   "cell_type": "code",
   "execution_count": 58,
   "id": "36ea9bf4",
   "metadata": {
    "scrolled": true,
    "ExecuteTime": {
     "end_time": "2024-12-14T06:30:20.305489Z",
     "start_time": "2024-12-14T06:30:20.226736Z"
    }
   },
   "outputs": [],
   "source": [
    "# organize & save item metadata\n",
    "item_meta = pd.read_csv(os.path.join(DATASET, \"movies.dat\"),\n",
    "            sep='::',names=['movieId','title','genres'],encoding='latin-1',engine='python') # columns: movieId,title,genres\n",
    "item_select = item_meta.loc[item_meta.movieId.isin(interaction_pos.news_id.unique())].copy()\n",
    "item_select['item_id'] = item_select.movieId.apply(lambda x: item2newid_topk[x])\n",
    "genres2id = dict(zip(sorted(item_select.genres.unique()),range(1,item_select.genres.nunique()+1)))\n",
    "item_select['i_genre_c'] = item_select['genres'].apply(lambda x: genres2id[x])\n",
    "title2id = dict(zip(sorted(item_select.title.unique()),range(1,item_select.title.nunique()+1)))\n",
    "item_select['i_title_c'] = item_select['title'].apply(lambda x: title2id[x])\n",
    "\n",
    "item_select[['item_id','i_genre_c','i_title_c']].to_csv(\n",
    "    os.path.join(TOPK_PATH,'item_meta.csv'),sep=\"\\t\",index=False)"
   ]
  },
  {
   "cell_type": "code",
   "outputs": [],
   "source": [],
   "metadata": {
    "collapsed": false
   },
   "id": "7376d912bd9216e"
  }
 ],
 "metadata": {
  "kernelspec": {
   "display_name": "Python 3",
   "language": "python",
   "name": "python3"
  },
  "language_info": {
   "codemirror_mode": {
    "name": "ipython",
    "version": 3
   },
   "file_extension": ".py",
   "mimetype": "text/x-python",
   "name": "python",
   "nbconvert_exporter": "python",
   "pygments_lexer": "ipython3",
   "version": "3.6.13"
  }
 },
 "nbformat": 4,
 "nbformat_minor": 5
}
